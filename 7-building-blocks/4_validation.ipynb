{
 "cells": [
  {
   "cell_type": "markdown",
   "id": "5ce3edb4",
   "metadata": {},
   "source": [
    "# Validation"
   ]
  },
  {
   "cell_type": "markdown",
   "id": "788a0e66",
   "metadata": {},
   "source": [
    "Validation: Ensures LLM outputs match predefined data schemas.\n",
    "This component provides schema validation and structured data parsing to guarantee consistent data formats for downstream code."
   ]
  },
  {
   "cell_type": "markdown",
   "id": "d8c4c414",
   "metadata": {},
   "source": [
    "## Groq structured output"
   ]
  },
  {
   "cell_type": "code",
   "execution_count": 5,
   "id": "f6b99c93",
   "metadata": {},
   "outputs": [
    {
     "data": {
      "text/plain": [
       "True"
      ]
     },
     "execution_count": 5,
     "metadata": {},
     "output_type": "execute_result"
    }
   ],
   "source": [
    "from groq import Groq\n",
    "from pydantic import BaseModel, Field\n",
    "from typing import Literal, Optional, List\n",
    "import json\n",
    "from dotenv import load_dotenv\n",
    "import os\n",
    "from enum import Enum\n",
    "\n",
    "load_dotenv()"
   ]
  },
  {
   "cell_type": "code",
   "execution_count": 17,
   "id": "507d746b",
   "metadata": {},
   "outputs": [
    {
     "name": "stdout",
     "output_type": "stream",
     "text": [
      "{\n",
      "  \"product_name\": \"UltraSound Headphones\",\n",
      "  \"rating\": 4.0,\n",
      "  \"sentiment\": \"positive\",\n",
      "  \"key_features\": [\n",
      "    \"noise cancellation is worst\",\n",
      "    \"battery lasts all day\",\n",
      "    \"sound quality is crisp and clear\"\n",
      "  ]\n",
      "}\n"
     ]
    }
   ],
   "source": [
    "client = Groq(api_key=os.getenv(\"GROQ_API_KEY\"))\n",
    "MODEL = \"moonshotai/kimi-k2-instruct\"\n",
    "\n",
    "class ProductReview(BaseModel):\n",
    "    product_name: str\n",
    "    rating: float\n",
    "    sentiment: Literal[\"positive\", \"neutral\", \"negative\"]\n",
    "    key_features: list[str]\n",
    "    \n",
    "response = client.chat.completions.create (\n",
    "    messages = [\n",
    "        {\n",
    "            \"role\": \"system\",\n",
    "            \"content\": \"Extract product review information from the text.\"\n",
    "        },\n",
    "        {\n",
    "            \"role\": \"user\",\n",
    "            \"content\": \"I bought the UltraSound Headphones last week. The noise cancellation is worst and the battery lasts all day. Sound quality is crisp and clear. I'd give it a rating of 4.0 out of 5.\"\n",
    "        }\n",
    "    ],\n",
    "    model = MODEL,\n",
    "    tools= [{\n",
    "        \"type\": \"function\",\n",
    "        \"function\": {\n",
    "            \"name\": \"product_review\",\n",
    "            \"parameters\": ProductReview.model_json_schema()\n",
    "        }\n",
    "    }],\n",
    "    tool_choice=\"auto\"\n",
    "    # response_format=ProductReview.model_json_schema()\n",
    ")\n",
    "tool_call = response.choices[0].message.tool_calls[0]\n",
    "args = json.loads(tool_call.function.arguments)\n",
    "review = ProductReview.model_validate(args)\n",
    "print(json.dumps(review.model_dump(), indent=2))\n",
    "\n",
    "# review = ProductReview.model_validate(json.loads(response.choices[0].message.content))\n",
    "# print(json.dumps(review.model_dump(), indent=2))"
   ]
  },
  {
   "cell_type": "code",
   "execution_count": 16,
   "id": "4fa66a6e",
   "metadata": {},
   "outputs": [
    {
     "name": "stdout",
     "output_type": "stream",
     "text": [
      "{\n",
      "  \"query\": \"SELECT c.name, c.email, SUM(o.order_amount) AS total_order_amount FROM customers c JOIN orders o ON c.customer_id = o.customer_id WHERE o.order_amount > 500 AND o.order_date >= CURRENT_DATE - INTERVAL 30 DAY GROUP BY c.name, c.email\",\n",
      "  \"query_type\": \"SELECT\",\n",
      "  \"tables_used\": [\n",
      "    \"customers\",\n",
      "    \"orders\"\n",
      "  ],\n",
      "  \"estimated_complexity\": \"medium\",\n",
      "  \"execution_notes\": [\n",
      "    \"This query assumes that the orders table has a foreign key to the customers table.\",\n",
      "    \"The query uses a JOIN to link customers with their orders and a WHERE clause to filter orders over $500 in the last 30 days.\",\n",
      "    \"The results are grouped by customer name and email to calculate the total order amount for each customer.\"\n",
      "  ],\n",
      "  \"validation_status\": {\n",
      "    \"is_valid\": true,\n",
      "    \"syntax_errors\": []\n",
      "  }\n",
      "}\n"
     ]
    }
   ],
   "source": [
    "\"\"\"SQL Query Generator\"\"\"\n",
    "\n",
    "class ValidationStatus(BaseModel):\n",
    "    is_valid: bool\n",
    "    syntax_errors: list[str]\n",
    "\n",
    "class SQLQueryGeneration(BaseModel):\n",
    "    query: str\n",
    "    query_type: str\n",
    "    tables_used: list[str]\n",
    "    estimated_complexity: str\n",
    "    execution_notes: list[str]\n",
    "    validation_status: ValidationStatus\n",
    "    \n",
    "response = client.chat.completions.create(\n",
    "    model=MODEL,\n",
    "    messages= [\n",
    "        {\n",
    "            \"role\": \"system\",\n",
    "            \"content\": \"You are a SQL expert. Generate structured SQL queries from natural language descriptions with proper syntax validation and metadata.\"\n",
    "        },\n",
    "        {\n",
    "            \"role\": \"user\",\n",
    "            \"content\": \"Find all customers who made orders over $500 in the last 30 days, show their name, email, and total order amount.\"\n",
    "        }\n",
    "    ],\n",
    "    response_format= {\n",
    "        \"type\": \"json_schema\",\n",
    "        \"json_schema\": {\n",
    "            \"name\": \"sql_query_generation\",\n",
    "            \"schema\": SQLQueryGeneration.model_json_schema()\n",
    "        }\n",
    "    },\n",
    ")\n",
    "\n",
    "sql_query_generation = SQLQueryGeneration.model_validate(json.loads(response.choices[0].message.content))\n",
    "print(json.dumps(sql_query_generation.model_dump(), indent=2))"
   ]
  },
  {
   "cell_type": "code",
   "execution_count": 23,
   "id": "593ec87f",
   "metadata": {},
   "outputs": [
    {
     "name": "stdout",
     "output_type": "stream",
     "text": [
      "{\n",
      "  \"category\": \"feature_request\",\n",
      "  \"priority\": \"low\",\n",
      "  \"urgency_score\": 2.0,\n",
      "  \"customer_info\": {\n",
      "    \"name\": \"Mike\",\n",
      "    \"company\": \"StartupXYZ\",\n",
      "    \"tier\": \"paid\"\n",
      "  },\n",
      "  \"TechnicalDetails\": [\n",
      "    {\n",
      "      \"component\": \"dashboard UI\",\n",
      "      \"error_code\": null,\n",
      "      \"description\": \"Customer is requesting a dark mode theme option for the dashboard to reduce eye strain during late-night work sessions\"\n",
      "    },\n",
      "    {\n",
      "      \"component\": \"dashboard UI\",\n",
      "      \"error_code\": null,\n",
      "      \"description\": \"Customer is also requesting keyboard shortcuts for common actions to improve user workflow efficiency\"\n",
      "    }\n",
      "  ],\n",
      "  \"keywords\": [\n",
      "    \"dark mode\",\n",
      "    \"keyboard shortcuts\",\n",
      "    \"dashboard\",\n",
      "    \"UI enhancement\",\n",
      "    \"user experience\"\n",
      "  ],\n",
      "  \"requires_excalation\": false,\n",
      "  \"estimated_resolution_hours\": 48.0,\n",
      "  \"follow_up_date\": null,\n",
      "  \"summary\": \"Customer from StartupXYZ is requesting two non-urgent UI enhancements: dark mode for the dashboard and keyboard shortcuts for common actions to improve late-night user experience.\"\n",
      "}\n"
     ]
    }
   ],
   "source": [
    "\"\"\"Support Ticket Classification\"\"\"\n",
    "\n",
    "class SupportCategory(str, Enum):\n",
    "    API = \"api\"\n",
    "    BILLING = \"billing\"\n",
    "    ACCOUNT = \"account\"\n",
    "    BUG = \"bug\"\n",
    "    FEATURE_REQUEST = \"feature_request\"\n",
    "    INTEGRATION = \"integration\"\n",
    "    SECURITY = \"security\"\n",
    "    PERFORMANCE = \"performance\"\n",
    "\n",
    "class Priority(str, Enum):\n",
    "    LOW = \"low\"\n",
    "    MEDIUM = \"medium\"\n",
    "    HIGH = \"high\"\n",
    "    CRITICAL = \"critical\"\n",
    "    \n",
    "class CustomerTier(str, Enum):\n",
    "    FREE = \"free\"\n",
    "    PAID = \"paid\"\n",
    "    ENTERPRISE = \"enterprise\"\n",
    "    TRIAL = \"trial\"\n",
    "    \n",
    "class CustomerInfo(BaseModel):\n",
    "    name: str\n",
    "    company: Optional[str]=None\n",
    "    tier: CustomerTier\n",
    "\n",
    "class TechnicalDetails(BaseModel):\n",
    "    component: str\n",
    "    error_code: Optional[str]=None\n",
    "    description: str\n",
    "    \n",
    "class SupportTicket(BaseModel):\n",
    "    category: SupportCategory\n",
    "    priority: Priority\n",
    "    urgency_score: float\n",
    "    customer_info: CustomerInfo\n",
    "    TechnicalDetails: List[TechnicalDetails]\n",
    "    keywords: List[str]\n",
    "    requires_excalation: bool\n",
    "    estimated_resolution_hours: float\n",
    "    follow_up_date: Optional[str] = Field(None, description=\"ISO datetime string\")\n",
    "    summary: str\n",
    "    \n",
    "response = client.chat.completions.create(\n",
    "    model=\"moonshotai/kimi-k2-instruct\",\n",
    "    messages=[\n",
    "        {\n",
    "            \"role\": \"system\",\n",
    "            \"content\": \"\"\"You are a customer support ticket classifier for SaaS companies. \n",
    "                         Analyze support tickets and categorize them for efficient routing and resolution.\n",
    "                         Output JSON only using the schema provided.\"\"\",\n",
    "        },\n",
    "        { \n",
    "            \"role\": \"user\", \n",
    "            \"content\": \"\"\"Hello! I love your product and have been using it for 6 months. \n",
    "                         I was wondering if you could add a dark mode feature to the dashboard? \n",
    "                         Many of our team members work late hours and would really appreciate this. \n",
    "                         Also, it would be great to have keyboard shortcuts for common actions. \n",
    "                         Not urgent, but would be a nice enhancement! \n",
    "                         Best, Mike from StartupXYZ\"\"\"\n",
    "        },\n",
    "    ],\n",
    "    response_format= {\n",
    "        \"type\": \"json_schema\",\n",
    "        \"json_schema\": {\n",
    "            \"name\": \"support_ticket_classification\",\n",
    "            \"schema\": SupportTicket.model_json_schema()\n",
    "        }\n",
    "    }\n",
    ")\n",
    "\n",
    "raw_result = json.loads(response.choices[0].message.content or \"{}\")\n",
    "result = SupportTicket.model_validate(raw_result)\n",
    "print(result.model_dump_json(indent=2))"
   ]
  },
  {
   "cell_type": "markdown",
   "id": "4e829973",
   "metadata": {},
   "source": [
    "## Gemini Structured Output"
   ]
  },
  {
   "cell_type": "code",
   "execution_count": 25,
   "id": "c51c075f",
   "metadata": {},
   "outputs": [],
   "source": [
    "from google import genai\n",
    "from google.genai import types\n",
    "from pydantic import BaseModel"
   ]
  },
  {
   "cell_type": "code",
   "execution_count": null,
   "id": "78890a90",
   "metadata": {},
   "outputs": [
    {
     "name": "stderr",
     "output_type": "stream",
     "text": [
      "Both GOOGLE_API_KEY and GEMINI_API_KEY are set. Using GOOGLE_API_KEY.\n"
     ]
    },
    {
     "name": "stdout",
     "output_type": "stream",
     "text": [
      "[Part(\n",
      "  text=\"\"\"[\n",
      "  {\n",
      "    \"recipe_name\": \"Chocolate Chip Cookies\",\n",
      "    \"ingredients\": [\n",
      "      \"2 1/4 cups all-purpose flour\",\n",
      "      \"1 teaspoon baking soda\",\n",
      "      \"1 teaspoon salt\",\n",
      "      \"1 cup (2 sticks) unsalted butter, softened\",\n",
      "      \"3/4 cup granulated sugar\",\n",
      "      \"3/4 cup packed brown sugar\",\n",
      "      \"1 teaspoon vanilla extract\",\n",
      "      \"2 large eggs\",\n",
      "      \"2 cups chocolate chips\"\n",
      "    ]\n",
      "  },\n",
      "  {\n",
      "    \"recipe_name\": \"Peanut Butter Cookies\",\n",
      "    \"ingredients\": [\n",
      "      \"1 cup (2 sticks) unsalted butter, softened\",\n",
      "      \"1 cup peanut butter\",\n",
      "      \"1 cup granulated sugar\",\n",
      "      \"1 cup packed brown sugar\",\n",
      "      \"2 large eggs\",\n",
      "      \"1 teaspoon vanilla extract\",\n",
      "      \"2 1/2 cups all-purpose flour\",\n",
      "      \"1 teaspoon baking soda\",\n",
      "      \"1/2 teaspoon salt\"\n",
      "    ]\n",
      "  },\n",
      "  {\n",
      "    \"recipe_name\": \"Oatmeal Raisin Cookies\",\n",
      "    \"ingredients\": [\n",
      "      \"1 cup (2 sticks) unsalted butter, softened\",\n",
      "      \"3/4 cup packed brown sugar\",\n",
      "      \"1/2 cup granulated sugar\",\n",
      "      \"2 large eggs\",\n",
      "      \"1 teaspoon vanilla extract\",\n",
      "      \"1 1/2 cups all-purpose flour\",\n",
      "      \"1 teaspoon baking soda\",\n",
      "      \"1 teaspoon ground cinnamon\",\n",
      "      \"1/2 teaspoon salt\",\n",
      "      \"3 cups rolled oats\",\n",
      "      \"1 cup raisins\"\n",
      "    ]\n",
      "  }\n",
      "]\"\"\"\n",
      ")]\n"
     ]
    }
   ],
   "source": [
    "client = genai.Client()\n",
    "MODEL = \"gemini-2.0-flash\"\n",
    "\n",
    "class Recipe(BaseModel):\n",
    "    recipe_name: str\n",
    "    ingredients: list[str]\n",
    "    \n",
    "config = types.GenerateContentConfig(\n",
    "        response_mime_type=\"application/json\",\n",
    "        response_schema= list[Recipe]\n",
    "    )\n",
    "response = client.models.generate_content(\n",
    "    model = MODEL,\n",
    "    contents = [\n",
    "        (\"system\", \"You are an online chef, who gives recipies of dishes.\"),\n",
    "        (\"user\", \"List a few popular cookie recipes, and include the amounts of ingredients.\"),\n",
    "    ],\n",
    "    config=config,\n",
    ")\n",
    "print(response.candidates[0].content.parts)"
   ]
  },
  {
   "cell_type": "code",
   "execution_count": 28,
   "id": "e4f67ccd",
   "metadata": {},
   "outputs": [
    {
     "name": "stdout",
     "output_type": "stream",
     "text": [
      "[\n",
      "  {\n",
      "    \"recipe_name\": \"Chocolate Chip Cookies\",\n",
      "    \"ingredients\": [\n",
      "      \"2 1/4 cups all-purpose flour\",\n",
      "      \"1 teaspoon baking soda\",\n",
      "      \"1 teaspoon salt\",\n",
      "      \"1 cup (2 sticks) unsalted butter, softened\",\n",
      "      \"3/4 cup granulated sugar\",\n",
      "      \"3/4 cup packed brown sugar\",\n",
      "      \"1 teaspoon vanilla extract\",\n",
      "      \"2 large eggs\",\n",
      "      \"2 cups chocolate chips\"\n",
      "    ]\n",
      "  },\n",
      "  {\n",
      "    \"recipe_name\": \"Peanut Butter Cookies\",\n",
      "    \"ingredients\": [\n",
      "      \"1 cup (2 sticks) unsalted butter, softened\",\n",
      "      \"1 cup peanut butter\",\n",
      "      \"1 cup granulated sugar\",\n",
      "      \"1 cup packed brown sugar\",\n",
      "      \"2 large eggs\",\n",
      "      \"1 teaspoon vanilla extract\",\n",
      "      \"2 1/2 cups all-purpose flour\",\n",
      "      \"1 teaspoon baking soda\",\n",
      "      \"1/2 teaspoon salt\"\n",
      "    ]\n",
      "  },\n",
      "  {\n",
      "    \"recipe_name\": \"Oatmeal Raisin Cookies\",\n",
      "    \"ingredients\": [\n",
      "      \"1 cup (2 sticks) unsalted butter, softened\",\n",
      "      \"3/4 cup packed brown sugar\",\n",
      "      \"1/2 cup granulated sugar\",\n",
      "      \"2 large eggs\",\n",
      "      \"1 teaspoon vanilla extract\",\n",
      "      \"1 1/2 cups all-purpose flour\",\n",
      "      \"1 teaspoon baking soda\",\n",
      "      \"1 teaspoon ground cinnamon\",\n",
      "      \"1/2 teaspoon salt\",\n",
      "      \"3 cups rolled oats\",\n",
      "      \"1 cup raisins\"\n",
      "    ]\n",
      "  }\n",
      "]\n"
     ]
    }
   ],
   "source": [
    "print(response.text)"
   ]
  },
  {
   "cell_type": "code",
   "execution_count": 30,
   "id": "04952633",
   "metadata": {},
   "outputs": [
    {
     "name": "stdout",
     "output_type": "stream",
     "text": [
      "Woodwind\n"
     ]
    }
   ],
   "source": [
    "class Instrument(str, Enum):\n",
    "    PERCUSSION = \"Percussion\"\n",
    "    STRING = \"String\"\n",
    "    WOODWIND = \"Woodwind\"\n",
    "    BRASS = \"Brass\"\n",
    "    KEYBOARD = \"Keyboard\"\n",
    "    \n",
    "config = types.GenerateContentConfig(\n",
    "    response_mime_type=\"text/x.enum\",\n",
    "    response_schema= Instrument\n",
    ")\n",
    "response = client.models.generate_content(\n",
    "    model=MODEL,\n",
    "    contents = [\n",
    "        (\"user\", \"what type of instrument is an oboe?\"),\n",
    "    ],\n",
    "    config = config,\n",
    ")\n",
    "print(response.text)"
   ]
  },
  {
   "cell_type": "code",
   "execution_count": 31,
   "id": "c67c5041",
   "metadata": {},
   "outputs": [
    {
     "name": "stdout",
     "output_type": "stream",
     "text": [
      "[\n",
      "  {\n",
      "    \"name\": \"Chocolate Chip Cookies\",\n",
      "    \"grade\": \"a+\"\n",
      "  },\n",
      "  {\n",
      "    \"name\": \"Peanut Butter Cookies\",\n",
      "    \"grade\": \"a\"\n",
      "  },\n",
      "  {\n",
      "    \"name\": \"Oatmeal Raisin Cookies\",\n",
      "    \"grade\": \"b\"\n",
      "  },\n",
      "  {\n",
      "    \"name\": \"Sugar Cookies\",\n",
      "    \"grade\": \"b\"\n",
      "  },\n",
      "  {\n",
      "    \"name\": \"Snickerdoodle Cookies\",\n",
      "    \"grade\": \"a\"\n",
      "  },\n",
      "  {\n",
      "    \"name\": \"Gingerbread Cookies\",\n",
      "    \"grade\": \"b\"\n",
      "  },\n",
      "  {\n",
      "    \"name\": \"Shortbread Cookies\",\n",
      "    \"grade\": \"c\"\n",
      "  },\n",
      "  {\n",
      "    \"name\": \"Macadamia Nut Cookies\",\n",
      "    \"grade\": \"a\"\n",
      "  },\n",
      "  {\n",
      "    \"name\": \"Double Chocolate Cookies\",\n",
      "    \"grade\": \"a+\"\n",
      "  },\n",
      "  {\n",
      "    \"name\": \"Lemon Cookies\",\n",
      "    \"grade\": \"b\"\n",
      "  }\n",
      "]\n"
     ]
    }
   ],
   "source": [
    "class Grade(Enum):\n",
    "    A_PLUS = \"a+\"\n",
    "    A = \"a\"\n",
    "    B = \"b\"\n",
    "    C = \"c\"\n",
    "    D = \"d\"\n",
    "    F = \"f\"\n",
    "\n",
    "class Recipe(BaseModel):\n",
    "    name: str\n",
    "    grade: Grade\n",
    "    \n",
    "response = client.models.generate_content(\n",
    "    model=MODEL,\n",
    "    contents= 'List 10 home-baked cookie recipes and give them grades based on tastiness.',\n",
    "    config = types.GenerateContentConfig(\n",
    "        response_mime_type=\"application/json\",\n",
    "        response_schema=list[Recipe]\n",
    "    ),\n",
    ")\n",
    "\n",
    "print(response.text)"
   ]
  },
  {
   "cell_type": "markdown",
   "id": "20b62d30",
   "metadata": {},
   "source": [
    "## Langchain: Structured Output"
   ]
  },
  {
   "cell_type": "code",
   "execution_count": 43,
   "id": "9f970223",
   "metadata": {},
   "outputs": [],
   "source": [
    "from langchain.chat_models import init_chat_model\n",
    "from pydantic import BaseModel, Field\n",
    "from typing import Optional\n",
    "\n",
    "llm = init_chat_model(model=\"gemini-2.0-flash\", model_provider=\"google_genai\")"
   ]
  },
  {
   "cell_type": "code",
   "execution_count": 39,
   "id": "f6fa02f1",
   "metadata": {},
   "outputs": [
    {
     "data": {
      "text/plain": [
       "Joke(setup='Why are cats bad at poker?', punchline=\"Because they're always feline good!\", rating=8)"
      ]
     },
     "execution_count": 39,
     "metadata": {},
     "output_type": "execute_result"
    }
   ],
   "source": [
    "class Joke(BaseModel):\n",
    "    setup: str = Field(description=\"The setup of the joke\")\n",
    "    punchline: str = Field(description=\"The punchline of the joke\")\n",
    "    rating: Optional[int] = Field(default=None, description=\"how funny the joke is, rate from 1 to 10\")\n",
    "\n",
    "structured_llm = llm.with_structured_output(Joke)\n",
    "structured_llm.invoke(\"Tell me a joke about cats\")"
   ]
  },
  {
   "cell_type": "markdown",
   "id": "6858511d",
   "metadata": {},
   "source": [
    "### Choosing between multiple schemas"
   ]
  },
  {
   "cell_type": "code",
   "execution_count": 48,
   "id": "7eadebfb",
   "metadata": {},
   "outputs": [
    {
     "data": {
      "text/plain": [
       "FinalResponse(final_output=ConversationalResponse(response='Why did the cat join the Red Cross? Because he wanted to be a first aid kit-ty!'))"
      ]
     },
     "execution_count": 48,
     "metadata": {},
     "output_type": "execute_result"
    }
   ],
   "source": [
    "from typing import Union\n",
    "\n",
    "\n",
    "class Joke(BaseModel):\n",
    "    \"\"\"Joke to tell user.\"\"\"\n",
    "\n",
    "    setup: str = Field(description=\"The setup of the joke\")\n",
    "    punchline: str = Field(description=\"The punchline to the joke\")\n",
    "    rating: Optional[int] = Field(\n",
    "        default=None, description=\"How funny the joke is, from 1 to 10\"\n",
    "    )\n",
    "\n",
    "\n",
    "class ConversationalResponse(BaseModel):\n",
    "    \"\"\"Respond in a conversational manner. Be kind and helpful.\"\"\"\n",
    "\n",
    "    response: str = Field(description=\"A conversational response to the user's query\")\n",
    "\n",
    "\n",
    "class FinalResponse(BaseModel):\n",
    "    final_output: Union[Joke, ConversationalResponse]\n",
    "\n",
    "\n",
    "structured_llm = llm.with_structured_output(FinalResponse)\n",
    "\n",
    "structured_llm.invoke(\"Tell me a joke about cats\")\n"
   ]
  },
  {
   "cell_type": "code",
   "execution_count": 47,
   "id": "bb3c2282",
   "metadata": {},
   "outputs": [
    {
     "data": {
      "text/plain": [
       "FinalResponse(final_output=ConversationalResponse(response='I am doing great, thank you for asking! How can I help you today?'))"
      ]
     },
     "execution_count": 47,
     "metadata": {},
     "output_type": "execute_result"
    }
   ],
   "source": [
    "structured_llm.invoke(\"How are you today?\")"
   ]
  },
  {
   "cell_type": "markdown",
   "id": "79c07d51",
   "metadata": {},
   "source": [
    "### PydanticOutputParser"
   ]
  },
  {
   "cell_type": "code",
   "execution_count": 49,
   "id": "8457edcb",
   "metadata": {},
   "outputs": [],
   "source": [
    "from typing import List\n",
    "\n",
    "from langchain_core.output_parsers import PydanticOutputParser\n",
    "from langchain_core.prompts import ChatPromptTemplate\n",
    "from pydantic import BaseModel, Field\n",
    "\n",
    "\n",
    "class Person(BaseModel):\n",
    "    \"\"\"Information about a person.\"\"\"\n",
    "\n",
    "    name: str = Field(..., description=\"The name of the person\")\n",
    "    height_in_meters: float = Field(\n",
    "        ..., description=\"The height of the person expressed in meters.\"\n",
    "    )\n",
    "\n",
    "\n",
    "class People(BaseModel):\n",
    "    \"\"\"Identifying information about all people in a text.\"\"\"\n",
    "\n",
    "    people: List[Person]\n",
    "\n",
    "\n",
    "# Set up a parser\n",
    "parser = PydanticOutputParser(pydantic_object=People)\n",
    "\n",
    "# Prompt\n",
    "prompt = ChatPromptTemplate.from_messages(\n",
    "    [\n",
    "        (\n",
    "            \"system\",\n",
    "            \"Answer the user query. Wrap the output in `json` tags\\n{format_instructions}\",\n",
    "        ),\n",
    "        (\"human\", \"{query}\"),\n",
    "    ]\n",
    ").partial(format_instructions=parser.get_format_instructions())"
   ]
  },
  {
   "cell_type": "code",
   "execution_count": 50,
   "id": "b7783ddc",
   "metadata": {},
   "outputs": [
    {
     "name": "stdout",
     "output_type": "stream",
     "text": [
      "System: Answer the user query. Wrap the output in `json` tags\n",
      "The output should be formatted as a JSON instance that conforms to the JSON schema below.\n",
      "\n",
      "As an example, for the schema {\"properties\": {\"foo\": {\"title\": \"Foo\", \"description\": \"a list of strings\", \"type\": \"array\", \"items\": {\"type\": \"string\"}}}, \"required\": [\"foo\"]}\n",
      "the object {\"foo\": [\"bar\", \"baz\"]} is a well-formatted instance of the schema. The object {\"properties\": {\"foo\": [\"bar\", \"baz\"]}} is not well-formatted.\n",
      "\n",
      "Here is the output schema:\n",
      "```\n",
      "{\"$defs\": {\"Person\": {\"description\": \"Information about a person.\", \"properties\": {\"name\": {\"description\": \"The name of the person\", \"title\": \"Name\", \"type\": \"string\"}, \"height_in_meters\": {\"description\": \"The height of the person expressed in meters.\", \"title\": \"Height In Meters\", \"type\": \"number\"}}, \"required\": [\"name\", \"height_in_meters\"], \"title\": \"Person\", \"type\": \"object\"}}, \"description\": \"Identifying information about all people in a text.\", \"properties\": {\"people\": {\"items\": {\"$ref\": \"#/$defs/Person\"}, \"title\": \"People\", \"type\": \"array\"}}, \"required\": [\"people\"]}\n",
      "```\n",
      "Human: Anna is 23 years old and she is 6 feet tall\n"
     ]
    }
   ],
   "source": [
    "query = \"Anna is 23 years old and she is 6 feet tall\"\n",
    "\n",
    "print(prompt.invoke({\"query\": query}).to_string())"
   ]
  },
  {
   "cell_type": "code",
   "execution_count": 53,
   "id": "9a1bb37d",
   "metadata": {},
   "outputs": [
    {
     "data": {
      "text/plain": [
       "People(people=[Person(name='Anna', height_in_meters=1.8288)])"
      ]
     },
     "execution_count": 53,
     "metadata": {},
     "output_type": "execute_result"
    }
   ],
   "source": [
    "chain = prompt | llm | parser\n",
    "\n",
    "chain.invoke({\"query\": query})"
   ]
  },
  {
   "cell_type": "markdown",
   "id": "72332154",
   "metadata": {},
   "source": [
    "# End of the notebook"
   ]
  }
 ],
 "metadata": {
  "kernelspec": {
   "display_name": ".venv (3.12.8)",
   "language": "python",
   "name": "python3"
  },
  "language_info": {
   "codemirror_mode": {
    "name": "ipython",
    "version": 3
   },
   "file_extension": ".py",
   "mimetype": "text/x-python",
   "name": "python",
   "nbconvert_exporter": "python",
   "pygments_lexer": "ipython3",
   "version": "3.12.8"
  }
 },
 "nbformat": 4,
 "nbformat_minor": 5
}
