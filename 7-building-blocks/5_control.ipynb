{
 "cells": [
  {
   "cell_type": "markdown",
   "id": "b2ab71e8",
   "metadata": {},
   "source": [
    "# Control"
   ]
  },
  {
   "cell_type": "markdown",
   "id": "25d95304",
   "metadata": {},
   "source": [
    "Control: Provides deterministic decision-making and process flow control.\n",
    "This component handles if/then logic, routing based on conditions, and process orchestration for predictable behavior."
   ]
  },
  {
   "cell_type": "markdown",
   "id": "a30a0b6a",
   "metadata": {},
   "source": [
    "## Control flow using Gemini API\n",
    "Same can be done using Groq API"
   ]
  },
  {
   "cell_type": "code",
   "execution_count": 37,
   "id": "d97985b4",
   "metadata": {},
   "outputs": [
    {
     "data": {
      "text/plain": [
       "True"
      ]
     },
     "execution_count": 37,
     "metadata": {},
     "output_type": "execute_result"
    }
   ],
   "source": [
    "from google import genai\n",
    "from google.genai import types\n",
    "from typing import Optional, Literal\n",
    "from dotenv import load_dotenv\n",
    "import os\n",
    "\n",
    "load_dotenv()"
   ]
  },
  {
   "cell_type": "code",
   "execution_count": 25,
   "id": "ac649bb3",
   "metadata": {},
   "outputs": [],
   "source": [
    "from pydantic import BaseModel, Field\n",
    "import json\n",
    "\n",
    "class IntentClassification(BaseModel):\n",
    "    intent: Literal['question', 'request', 'complaint'] = Field(description=\"Intent of the query.\")\n",
    "    confidence: float = Field(description=\"confidence level of making classification, float value between 0 and 1.0\")\n",
    "    reasoning: str = Field(description=\"Reason why the query is one of the intents.\")\n",
    "\n",
    "def route_based_on_intent(user_query: str) -> tuple[str, IntentClassification]:\n",
    "    client = genai.Client()\n",
    "    response = client.models.generate_content(\n",
    "        model=\"gemini-2.0-flash\",\n",
    "        contents=[\n",
    "            (\"system\", \"lassify user input into one of three categories: question, request, or complaint. Provide your reasoning and confidence level.\"),\n",
    "            (\"user\", user_query),\n",
    "        ],\n",
    "        config= types.GenerateContentConfig(\n",
    "            response_mime_type=\"application/json\",\n",
    "            response_schema=IntentClassification\n",
    "        )\n",
    "    )\n",
    "    classification = json.loads(response.text)\n",
    "    intent = classification['intent']\n",
    "    \n",
    "    if intent==\"question\":\n",
    "        result = answer_question(user_query)\n",
    "    elif intent==\"request\":\n",
    "        result = process_request(user_query)\n",
    "    elif intent==\"complaint\":\n",
    "        result = handle_complaint(user_query)\n",
    "    else:\n",
    "        result = \"I'm not sure how to help with that.\"\n",
    "        \n",
    "    return result, classification\n",
    "\n",
    "def answer_question(user_query: str)-> str:\n",
    "    client = genai.Client()\n",
    "    response = client.models.generate_content(\n",
    "        model=\"gemini-2.0-flash-lite\",\n",
    "        contents=f\"Answer this question: {user_query}\",\n",
    "    )\n",
    "    return response.text\n",
    "\n",
    "def process_request(user_query: str)-> str:\n",
    "    return f\"Your request is being processed: {user_query}\"\n",
    "\n",
    "def handle_complaint(user_query: str) -> str:\n",
    "    client = genai.Client()\n",
    "    response = client.models.generate_content(\n",
    "        model=\"gemini-2.0-flash-lite\",\n",
    "        contents=[\n",
    "            (\"system\", \"\"\"You deal with the complaints, respond in a empathetic and concise way and always appologize for bad experience and tell them that we will work on improvements based on their feedback.\n",
    "             \"\"\"),\n",
    "            (\"user\", user_query)\n",
    "        ]\n",
    "    )\n",
    "    return response.text"
   ]
  },
  {
   "cell_type": "code",
   "execution_count": 26,
   "id": "478fd0cb",
   "metadata": {},
   "outputs": [
    {
     "name": "stderr",
     "output_type": "stream",
     "text": [
      "Both GOOGLE_API_KEY and GEMINI_API_KEY are set. Using GOOGLE_API_KEY.\n",
      "Both GOOGLE_API_KEY and GEMINI_API_KEY are set. Using GOOGLE_API_KEY.\n"
     ]
    },
    {
     "data": {
      "text/plain": [
       "\"I am so sorry to hear that you're unhappy with the service quality. I sincerely apologize for the negative experience you had. We appreciate your feedback and will use it to work on improvements.\\n\""
      ]
     },
     "execution_count": 26,
     "metadata": {},
     "output_type": "execute_result"
    }
   ],
   "source": [
    "response, classification = route_based_on_intent(user_query=\"I'm unhappy with the service quality\")\n",
    "response"
   ]
  },
  {
   "cell_type": "code",
   "execution_count": 27,
   "id": "cd8f39eb",
   "metadata": {},
   "outputs": [
    {
     "name": "stderr",
     "output_type": "stream",
     "text": [
      "Both GOOGLE_API_KEY and GEMINI_API_KEY are set. Using GOOGLE_API_KEY.\n",
      "Both GOOGLE_API_KEY and GEMINI_API_KEY are set. Using GOOGLE_API_KEY.\n"
     ]
    },
    {
     "data": {
      "text/plain": [
       "'Machine learning (ML) is a branch of artificial intelligence (AI) that focuses on enabling computers to learn from data without being explicitly programmed. Instead of being given specific instructions to perform a task, machine learning algorithms are trained on a dataset, allowing them to identify patterns, make predictions, and improve their performance over time.\\n\\nHere\\'s a breakdown of key aspects:\\n\\n*   **Learning from Data:** The core principle of ML is that algorithms learn by analyzing data. This data can be anything from images and text to numbers and financial transactions.\\n*   **Algorithms:** ML utilizes various algorithms, such as decision trees, support vector machines, neural networks, and more. These algorithms are the \"brains\" of the system, analyzing the data and making decisions.\\n*   **Patterns and Predictions:** The goal of ML is often to find patterns in data and use those patterns to make predictions or classifications about new, unseen data.\\n*   **Improvement Over Time:** A key characteristic of ML is the ability to improve with experience. As the algorithm is exposed to more data and feedback, it refines its understanding and becomes more accurate.\\n*   **No Explicit Programming:** Unlike traditional programming, which requires specific instructions, ML models are trained on data and can adapt and learn without human intervention (although human input is often used in the design and data preparation phases).\\n\\n**In essence, machine learning is about teaching computers to learn from data, allowing them to perform tasks without being explicitly programmed for those tasks.**\\n\\n**Examples of Machine Learning:**\\n\\n*   **Recommendation Systems:** Suggesting products on e-commerce websites or movies on streaming services.\\n*   **Spam Filtering:** Identifying and filtering out unwanted emails.\\n*   **Image Recognition:** Identifying objects or people in images.\\n*   **Fraud Detection:** Detecting fraudulent transactions.\\n*   **Natural Language Processing (NLP):** Understanding and generating human language (e.g., chatbots, language translation).\\n*   **Self-Driving Cars:** Navigating and making decisions on the road.\\n'"
      ]
     },
     "execution_count": 27,
     "metadata": {},
     "output_type": "execute_result"
    }
   ],
   "source": [
    "response, classification = route_based_on_intent(user_query=\"What is machine learning?\")\n",
    "response"
   ]
  },
  {
   "cell_type": "code",
   "execution_count": 28,
   "id": "f6ff962c",
   "metadata": {},
   "outputs": [
    {
     "name": "stderr",
     "output_type": "stream",
     "text": [
      "Both GOOGLE_API_KEY and GEMINI_API_KEY are set. Using GOOGLE_API_KEY.\n"
     ]
    },
    {
     "data": {
      "text/plain": [
       "'Your request is being processed: Please schedule a meeting for tomorrow'"
      ]
     },
     "execution_count": 28,
     "metadata": {},
     "output_type": "execute_result"
    }
   ],
   "source": [
    "response, classification = route_based_on_intent(user_query=\"Please schedule a meeting for tomorrow\")\n",
    "response"
   ]
  },
  {
   "cell_type": "markdown",
   "id": "e1a0e4b0",
   "metadata": {},
   "source": [
    "## LangChain: Control Flow using LangGraph"
   ]
  },
  {
   "cell_type": "code",
   "execution_count": 30,
   "id": "0780743b",
   "metadata": {},
   "outputs": [],
   "source": [
    "from typing import TypedDict, Annotated\n",
    "from langgraph.graph import StateGraph, START, END\n",
    "from langgraph.graph.message import add_messages\n",
    "from langchain.chat_models import init_chat_model"
   ]
  },
  {
   "cell_type": "code",
   "execution_count": 31,
   "id": "c6803836",
   "metadata": {},
   "outputs": [],
   "source": [
    "class State(TypedDict):\n",
    "    messages: Annotated[list, add_messages]\n",
    "    \n",
    "graph_builder = StateGraph(State)\n",
    "llm = init_chat_model(model=\"gemini-2.0-flash\", model_provider=\"google_genai\")\n",
    "\n",
    "def chatbot(state: State):\n",
    "    return {\"messages\": [llm.invoke(state[\"messages\"])]}\n",
    "\n",
    "graph_builder.add_node(\"chatbot\", chatbot)\n",
    "graph_builder.add_edge(START, \"chatbot\")\n",
    "graph_builder.add_edge(\"chatbot\", END)\n",
    "\n",
    "graph = graph_builder.compile()"
   ]
  },
  {
   "cell_type": "code",
   "execution_count": 33,
   "id": "b5696aee",
   "metadata": {},
   "outputs": [
    {
     "data": {
      "image/png": "[encoded data removed]",
      "text/plain": [
       "<IPython.core.display.Image object>"
      ]
     },
     "metadata": {},
     "output_type": "display_data"
    }
   ],
   "source": [
    "from IPython.display import Image, display\n",
    "try:\n",
    "    display(Image(graph.get_graph().draw_mermaid_png()))\n",
    "except Exception:\n",
    "    print(\"Unable to load the graph image.\")"
   ]
  },
  {
   "cell_type": "code",
   "execution_count": 35,
   "id": "98086c2c",
   "metadata": {},
   "outputs": [
    {
     "name": "stdout",
     "output_type": "stream",
     "text": [
      "Assistant: Hi Aaditya, it's nice to meet you! How can I help you today?\n",
      "Assistant: LLMs (Large Language Models) learn by ingesting massive amounts of text data. They use a neural network architecture called a transformer, which excels at understanding relationships between words in a sequence. During training, the model predicts the next word in a sentence, adjusting its internal parameters to minimize prediction errors. This process allows the LLM to learn patterns, grammar, and even some world knowledge. After training, the model can generate text, translate languages, and answer questions based on its learned knowledge, all by predicting the most probable sequence of words.\n",
      "Assistant: I'm sorry, but I don't have access to your past conversations, so I can't recall what your last question was.\n",
      "Assistant: As a large language model, I have no memory of past conversations. Therefore, I do not know your name. You have not told me your name.\n",
      "Goodbye!\n"
     ]
    }
   ],
   "source": [
    "def stream_graph_updates(user_input: str):\n",
    "    for event in graph.stream({\"messages\": [{\"role\": \"user\", \"content\": user_input}]}):\n",
    "        for value in event.values():\n",
    "            print(\"Assistant:\", value[\"messages\"][-1].content)\n",
    "            \n",
    "while True:\n",
    "    try:\n",
    "        user_input = input(\"user: \")\n",
    "        if user_input.lower() in [\"quit\", \"bye\", \"q\"]:\n",
    "            print(\"Goodbye!\")\n",
    "            break\n",
    "        stream_graph_updates(user_input)\n",
    "    except Exception:\n",
    "        user_input = \"What do you know about langgraph?\"\n",
    "        print(\"user: \"+ user_input)\n",
    "        stream_graph_updates(user_input)\n",
    "        break"
   ]
  },
  {
   "cell_type": "code",
   "execution_count": 38,
   "id": "b6d38081",
   "metadata": {},
   "outputs": [
    {
     "data": {
      "text/plain": [
       "{'query': 'What is a `node` in langgraph?',\n",
       " 'follow_up_questions': None,\n",
       " 'answer': None,\n",
       " 'images': [],\n",
       " 'results': [{'url': 'https://medium.com/@kbdhunga/beginners-guide-to-langgraph-understanding-state-nodes-and-edges-part-1-897e6114fa48',\n",
       "   'title': \"Beginner's Guide to LangGraph: Understanding State, Nodes, and ...\",\n",
       "   'content': 'Nodes: Nodes are the fundamental building blocks of a graph. Each node represents a specific function or operation that processes the current',\n",
       "   'score': 0.83710164,\n",
       "   'raw_content': None},\n",
       "  {'url': 'https://medium.com/@cplog/introduction-to-langgraph-a-beginners-guide-14f9be027141',\n",
       "   'title': \"Introduction to LangGraph: A Beginner's Guide - Medium\",\n",
       "   'content': '*   **Stateful Graph:** LangGraph revolves around the concept of a stateful graph, where each node in the graph represents a step in your computation, and the graph maintains a state that is passed around and updated as the computation progresses. LangGraph supports conditional edges, allowing you to dynamically determine the next node to execute based on the current state of the graph. Image 10: Introduction to AI Agent with LangChain and LangGraph: A Beginner’s Guide Image 18: How to build LLM Agent with LangGraph\\u200a—\\u200aStateGraph and Reducer Image 20: Simplest Graphs using LangGraph Framework Image 24: Building a ReAct Agent with Langgraph: A Step-by-Step Guide Image 28: Building an Agentic RAG with LangGraph: A Step-by-Step Guide',\n",
       "   'score': 0.6407488,\n",
       "   'raw_content': None}],\n",
       " 'response_time': 0.75}"
      ]
     },
     "execution_count": 38,
     "metadata": {},
     "output_type": "execute_result"
    }
   ],
   "source": [
    "from langchain_tavily import TavilySearch\n",
    "tool = TavilySearch(max_results=2)\n",
    "tools = [tool]\n",
    "tool.invoke(\"What is a `node` in langgraph?\")"
   ]
  },
  {
   "cell_type": "code",
   "execution_count": 39,
   "id": "01098638",
   "metadata": {},
   "outputs": [],
   "source": [
    "llm_with_tools = llm.bind_tools(tools)"
   ]
  },
  {
   "cell_type": "code",
   "execution_count": 53,
   "id": "e30b08f0",
   "metadata": {},
   "outputs": [
    {
     "data": {
      "text/plain": [
       "<langgraph.graph.state.StateGraph at 0x1fa07bb5790>"
      ]
     },
     "execution_count": 53,
     "metadata": {},
     "output_type": "execute_result"
    }
   ],
   "source": [
    "from langgraph.prebuilt.tool_node import ToolNode\n",
    "def chatbot(state: State):\n",
    "    return {\"messages\": [llm_with_tools.invoke(state[\"messages\"])]}\n",
    "\n",
    "graph_builder = StateGraph(State)\n",
    "graph_builder.add_node(\"chatbot\", chatbot)\n",
    "tool_node = ToolNode(tools=tools)\n",
    "graph_builder.add_node(\"tools\", tool_node)"
   ]
  },
  {
   "cell_type": "code",
   "execution_count": 54,
   "id": "faace389",
   "metadata": {},
   "outputs": [],
   "source": [
    "def route_tools(state: State):\n",
    "    if isinstance(state, list):\n",
    "        ai_message = state[-1]\n",
    "    elif messages := state.get(\"messages\", []):\n",
    "        ai_message = messages[-1]\n",
    "    else:\n",
    "        raise ValueError(f\"No message found in input state to tool_edge: {state}\")\n",
    "    if hasattr(ai_message, \"tool_calls\") and len(ai_message.tool_calls) > 0:\n",
    "        return \"tools\"\n",
    "    return END\n",
    "\n",
    "graph_builder.add_conditional_edges(\n",
    "    \"chatbot\",\n",
    "    route_tools,\n",
    "    {\"tools\": \"tools\", END: END},\n",
    ")\n",
    "\n",
    "graph_builder.add_edge(\"tools\", \"chatbot\")\n",
    "graph_builder.add_edge(START, \"chatbot\")\n",
    "graph = graph_builder.compile()"
   ]
  },
  {
   "cell_type": "code",
   "execution_count": 55,
   "id": "0ad8c2c4",
   "metadata": {},
   "outputs": [
    {
     "data": {
      "image/png": "[encoded data removed]",
      "text/plain": [
       "<IPython.core.display.Image object>"
      ]
     },
     "metadata": {},
     "output_type": "display_data"
    }
   ],
   "source": [
    "from IPython.display import Image, display\n",
    "try:\n",
    "    display(Image(graph.get_graph().draw_mermaid_png()))\n",
    "except Exception:\n",
    "    print(\"Unable to load the graph image.\")"
   ]
  },
  {
   "cell_type": "code",
   "execution_count": 56,
   "id": "5da63747",
   "metadata": {},
   "outputs": [
    {
     "name": "stdout",
     "output_type": "stream",
     "text": [
      "Assistant: Hello! How can I help you today?\n",
      "Assistant: \n",
      "Assistant: {\"query\": \"today's date\", \"follow_up_questions\": null, \"answer\": null, \"images\": [], \"results\": [{\"url\": \"https://www.inchcalculator.com/what-is-todays-date/\", \"title\": \"What Is Today's Date? - Inch Calculator\", \"content\": \"Today, August 2nd , is day 214 of 365 total days in 2025. What is Today's Date in Numbers? Today's date in numbers is: MM-DD-YYYY: 08-02-2025; DD-MM-YYYY:\", \"score\": 0.829285, \"raw_content\": null}, {\"url\": \"https://www.rapidtables.com/tools/todays-date.html\", \"title\": \"Today's Date | Current date now - RapidTables.com\", \"content\": \"This page includes the following information: Today's date: day of week, month, day, year. Current time: hours, minutes, seconds.\", \"score\": 0.7598145, \"raw_content\": null}], \"response_time\": 2.73}\n",
      "Assistant: Today is August 2nd, 2025.\n",
      "Assistant: \n",
      "Assistant: {\"query\": \"current date in India\", \"follow_up_questions\": null, \"answer\": null, \"images\": [], \"results\": [{\"url\": \"https://www.worldtimeserver.com/current_time_in_IN.aspx\", \"title\": \"Current local time in India - WorldTimeServer.com\", \"content\": \"Current local time and date in India from a trusted independent resource. ... Current Time in India. What Time Is It In India?Local Time. 10:23:13 PM. Saturday\", \"score\": 0.67347145, \"raw_content\": null}, {\"url\": \"https://www.timeanddate.com/worldclock/india\", \"title\": \"Time in India - Time and Date\", \"content\": \"Current Local Time in India ; Banswara, Sat 8:15 pm ; Barabanki, Sat 8:15 pm ; Baramati, Sat 8:15 pm ; Baramulla, Sat 8:15 pm.\", \"score\": 0.5775198, \"raw_content\": null}], \"response_time\": 1.04}\n",
      "Assistant: OK. It is Saturday, 8:15 pm in India. I can also search for the date if you'd like.\n",
      "Assistant: \n",
      "Assistant: {\"query\": \"today's news headlines in Jaipur\", \"follow_up_questions\": null, \"answer\": null, \"images\": [], \"results\": [{\"url\": \"https://www.news18.com/cities/jaipur-news/\", \"title\": \"Today's Latest & Breaking Jaipur News Headlines - News18\", \"content\": \"Latest jaipur news · Ananya Panday Visits Kale Hanuman Ji Temple In Jaipur, See Pics · Man Waves Knife On Social Media After Stabbing Rival 14 Times In Jaipur\", \"score\": 0.80844593, \"raw_content\": null}, {\"url\": \"https://www.patrika.com/en/jaipur-news\", \"title\": \"Latest Jaipur Updates, Live News, Breaking Stories - Patrika\", \"content\": \"Jaipur · Bhajnalal Government to Launch AI Policy 2025: Benefits for Colleges, Startups, and Private Companies · Namo Bharat train to reach this Rajasthan city,\", \"score\": 0.64047897, \"raw_content\": null}], \"response_time\": 0.82}\n",
      "Assistant: Today's news headlines from Jaipur include:\n",
      "\n",
      "*   Ananya Panday Visits Kale Hanuman Ji Temple In Jaipur\n",
      "*   Man Waves Knife On Social Media After Stabbing Rival 14 Times In Jaipur\n",
      "*   Bhajnalal Government to Launch AI Policy 2025: Benefits for Colleges, Startups, and Private Companies\n",
      "*   Namo Bharat train to reach this Rajasthan city\n",
      "Assistant: Goodbye! Let me know if you need anything else in the future.\n",
      "Goodbye!\n"
     ]
    }
   ],
   "source": [
    "def stream_graph_updates(user_input: str):\n",
    "    for event in graph.stream({\"messages\": [{\"role\": \"user\", \"content\": user_input}]}):\n",
    "        for value in event.values():\n",
    "            print(\"Assistant:\", value[\"messages\"][-1].content)\n",
    "\n",
    "while True:\n",
    "    try:\n",
    "        user_input = input(\"User: \")\n",
    "        if user_input.lower() in [\"quit\", \"exit\", \"q\"]:\n",
    "            print(\"Goodbye!\")\n",
    "            break\n",
    "\n",
    "        stream_graph_updates(user_input)\n",
    "    except Exception:\n",
    "        # fallback if input() is not available\n",
    "        user_input = \"What do you know about LangGraph?\"\n",
    "        print(\"User: \" + user_input)\n",
    "        stream_graph_updates(user_input)\n",
    "        break"
   ]
  },
  {
   "cell_type": "code",
   "execution_count": null,
   "id": "4bfa77de",
   "metadata": {},
   "outputs": [],
   "source": []
  }
 ],
 "metadata": {
  "kernelspec": {
   "display_name": ".venv (3.12.8)",
   "language": "python",
   "name": "python3"
  },
  "language_info": {
   "codemirror_mode": {
    "name": "ipython",
    "version": 3
   },
   "file_extension": ".py",
   "mimetype": "text/x-python",
   "name": "python",
   "nbconvert_exporter": "python",
   "pygments_lexer": "ipython3",
   "version": "3.12.8"
  }
 },
 "nbformat": 4,
 "nbformat_minor": 5
}
